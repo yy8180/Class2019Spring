{
 "cells": [
  {
   "cell_type": "markdown",
   "metadata": {},
   "source": [
    "크롤링을 연습하기 위해, 네이버 영화 사이트에서 영화의 평점과 평가를 가져오는 것을 연습해 본다."
   ]
  },
  {
   "cell_type": "code",
   "execution_count": 1,
   "metadata": {},
   "outputs": [],
   "source": [
    "#필요한 라이브러리 불러오기\n",
    "\n",
    "from urllib.request import urlopen\n",
    "from bs4 import BeautifulSoup\n",
    "import csv\n",
    "import pandas as pd"
   ]
  },
  {
   "cell_type": "markdown",
   "metadata": {},
   "source": [
    "「이스케이프 룸」이라는 영화를 검색해 리뷰로 들어가 보면\n",
    "\n",
    "https://movie.naver.com/movie/point/af/list.nhn?st=mcode&sword=180425&target=after&page=1\n",
    "위와 같은 주소인 것을 볼 수 있다. 여기서 마지막 부분이 page=1로 끝난다는 점을 이용해서\n",
    "뒤에 붙은 숫자만 바꾸어 주면 평점 목록의 페이지를 넘겨가며 크롤링을 할 수 있을 것 같다"
   ]
  },
  {
   "cell_type": "code",
   "execution_count": 2,
   "metadata": {},
   "outputs": [],
   "source": [
    "html = urlopen('https://movie.naver.com/movie/point/af/list.nhn?st=mcode&sword=180425&target=after&page=1')\n",
    "bsObject = BeautifulSoup(html, \"html.parser\")"
   ]
  },
  {
   "cell_type": "markdown",
   "metadata": {},
   "source": [
    "html을 봤을때, 각 평가 하나 하나는 tr 이라는 태그 안에 들어있음을 볼 수 있다. \n",
    "    평점은 그 속에 class=point라는 속성을 가진 td 태그 안에 있고\n",
    "    평가는 class=title 속성을 가진 td태그 속에 있는 것을 볼 수 있다."
   ]
  },
  {
   "cell_type": "code",
   "execution_count": 3,
   "metadata": {
    "collapsed": true
   },
   "outputs": [
    {
     "name": "stdout",
     "output_type": "stream",
     "text": [
      "\n",
      "이스케이프 룸\n",
      "진짜 재밌어요 ㅋㅋㅋ 기대없이 봤는데 짜릿하고 진짜 집중하면서 봤어요 마지막에 먼가가 메이즈러너 느낌도나고 액션 이랑 스릴좋아하시는 사람들에겐 추천!! \n",
      "\t\t\t\n",
      "\t\t\t\n",
      "\t\t\t\n",
      "\t\t\t\t\n",
      "\t\t\t\t\n",
      "\t\t\t\t\n",
      "\t\t\t\t신고\n",
      "\n",
      "\n",
      "이스케이프 룸\n",
      "시간때우기 괜찮음보고 남는건 없음 \n",
      "\t\t\t\n",
      "\t\t\t\n",
      "\t\t\t\n",
      "\t\t\t\t\n",
      "\t\t\t\t\n",
      "\t\t\t\t\n",
      "\t\t\t\t신고\n",
      "\n",
      "\n",
      "이스케이프 룸\n",
      "후속작 너무나 기대된당 \n",
      "\t\t\t\n",
      "\t\t\t\n",
      "\t\t\t\n",
      "\t\t\t\t\n",
      "\t\t\t\t\n",
      "\t\t\t\t\n",
      "\t\t\t\t신고\n",
      "\n",
      "\n",
      "이스케이프 룸\n",
      "참신한 소재로 특색있게 잘 봤음 \n",
      "\t\t\t\n",
      "\t\t\t\n",
      "\t\t\t\n",
      "\t\t\t\t\n",
      "\t\t\t\t\n",
      "\t\t\t\t\n",
      "\t\t\t\t신고\n",
      "\n",
      "\n",
      "이스케이프 룸\n",
      "(큐브+ 페르마의밀실+ 쏘우) 세가지를 고어적요소나 난해한걸 잘 못보는사람들이 보기쉽게 짬뽕한 느낌. 이런장르를 많이본사람에겐 조금 밋밋할수있고, 잘모르는사람에겐 잔인한 장면없이 가볍게 보기 좋은영화. \n",
      "\t\t\t\n",
      "\t\t\t\n",
      "\t\t\t\n",
      "\t\t\t\t\n",
      "\t\t\t\t\n",
      "\t\t\t\t\n",
      "\t\t\t\t신고\n",
      "\n",
      "\n",
      "이스케이프 룸\n",
      "개연성이 좀 없긴한데 재밌게봄 ㅋㅋㅋㅋ \n",
      "\t\t\t\n",
      "\t\t\t\n",
      "\t\t\t\n",
      "\t\t\t\t\n",
      "\t\t\t\t\n",
      "\t\t\t\t\n",
      "\t\t\t\t신고\n",
      "\n",
      "\n",
      "이스케이프 룸\n",
      "다른건 다 문제 없었지만 마지막 2명방에서 환각? 독?에 취한 모습들이 약간 어지러웠음 \n",
      "\t\t\t\n",
      "\t\t\t\n",
      "\t\t\t\n",
      "\t\t\t\t\n",
      "\t\t\t\t\n",
      "\t\t\t\t\n",
      "\t\t\t\t신고\n",
      "\n",
      "\n",
      "이스케이프 룸\n",
      "탈출해야 할 곳은 방이 아니라 영화관이었다 \n",
      "\t\t\t\n",
      "\t\t\t\n",
      "\t\t\t\n",
      "\t\t\t\t\n",
      "\t\t\t\t\n",
      "\t\t\t\t\n",
      "\t\t\t\t신고\n",
      "\n",
      "\n",
      "이스케이프 룸\n",
      "재밌었음 같이 보러간 언니도 만족 ^^ \n",
      "\t\t\t\n",
      "\t\t\t\n",
      "\t\t\t\n",
      "\t\t\t\t\n",
      "\t\t\t\t\n",
      "\t\t\t\t\n",
      "\t\t\t\t신고\n",
      "\n",
      "\n",
      "이스케이프 룸\n",
      "재밌기만한디ㅋㅋ감독님이똑똑하시네 \n",
      "\t\t\t\n",
      "\t\t\t\n",
      "\t\t\t\n",
      "\t\t\t\t\n",
      "\t\t\t\t\n",
      "\t\t\t\t\n",
      "\t\t\t\t신고\n",
      "\n"
     ]
    }
   ],
   "source": [
    "for x in bsObject.findAll('td',{'class':'title'}):\n",
    "    print(x.text) #텍스트 부분만 출력"
   ]
  },
  {
   "cell_type": "markdown",
   "metadata": {},
   "source": [
    "위에 항상 붙어나오는 제목과 아래쪽 신고버튼을 정리해 주는 것이 더 깔끔할 것 같다.\n",
    "수업 시간에 배운 문자열 자르기와 치환을 이용하여 삭제할 수 있을 것 같다."
   ]
  },
  {
   "cell_type": "code",
   "execution_count": 4,
   "metadata": {
    "collapsed": true
   },
   "outputs": [
    {
     "name": "stdout",
     "output_type": "stream",
     "text": [
      "진짜 재밌어요 ㅋㅋㅋ 기대없이 봤는데 짜릿하고 진짜 집중하면서 봤어요 마지막에 먼가가 메이즈러너 느낌도나고 액션 이랑 스릴좋아하시는 사람들에겐 추천!!\n",
      "시간때우기 괜찮음보고 남는건 없음\n",
      "후속작 너무나 기대된당\n",
      "참신한 소재로 특색있게 잘 봤음\n",
      "(큐브+ 페르마의밀실+ 쏘우) 세가지를 고어적요소나 난해한걸 잘 못보는사람들이 보기쉽게 짬뽕한 느낌. 이런장르를 많이본사람에겐 조금 밋밋할수있고, 잘모르는사람에겐 잔인한 장면없이 가볍게 보기 좋은영화.\n",
      "개연성이 좀 없긴한데 재밌게봄 ㅋㅋㅋㅋ\n",
      "다른건 다 문제 없었지만 마지막 2명방에서 환각? 독?에 취한 모습들이 약간 어지러웠음\n",
      "탈출해야 할 곳은 방이 아니라 영화관이었다\n",
      "재밌었음 같이 보러간 언니도 만족 ^^\n",
      "재밌기만한디ㅋㅋ감독님이똑똑하시네\n"
     ]
    }
   ],
   "source": [
    "for x in bsObject.findAll('td',{'class':'title'}):\n",
    "    text=x.text[:-5] #문자열 자르기를 이용하여 신고 부분을 뺀 부분만 가져온다\n",
    "    text=text.replace('이스케이프 룸','',1) #평가 안에 영화 제목이 있을 수도 있기 때문에 하나만 바꿔준다.\n",
    "    print(text.strip())\n",
    "    "
   ]
  },
  {
   "cell_type": "code",
   "execution_count": 32,
   "metadata": {},
   "outputs": [
    {
     "name": "stdout",
     "output_type": "stream",
     "text": [
      "10\n",
      "6\n",
      "3\n",
      "2\n",
      "7\n",
      "10\n",
      "10\n",
      "10\n",
      "2\n",
      "8\n"
     ]
    }
   ],
   "source": [
    "for x in bsObject.findAll('td',{'class':'point'}):\n",
    "    print(x.text) #평점 출력"
   ]
  },
  {
   "cell_type": "markdown",
   "metadata": {},
   "source": [
    "20페이지에 걸쳐 평점과 평가를 리스트로 저장하는 코드를 짜 본다."
   ]
  },
  {
   "cell_type": "code",
   "execution_count": 6,
   "metadata": {},
   "outputs": [],
   "source": [
    "text=[]\n",
    "point=[]  #평가와 평점을 저장할 빈 리스트 생성\n",
    "\n",
    "link='https://movie.naver.com/movie/point/af/list.nhn?st=mcode&sword=180425&target=after&page=' #페이지 숫자만 바꿔가며 사용할 수 있다\n",
    "\n",
    "for i in range(21): #1~20페이지\n",
    "    html = urlopen('https://movie.naver.com/movie/point/af/list.nhn?st=mcode&sword=180425&target=after&page='+str(i))\n",
    "    bsObject = BeautifulSoup(html, \"html.parser\")\n",
    "    \n",
    "    for x in bsObject.findAll('td',{'class':'title'}):\n",
    "        a=x.text[:-5]\n",
    "        a=a.replace('이스케이프 룸','',1)\n",
    "        text.append(a.strip())  #append를 이용해 리스트에 원소를 추가할 수 있다.\n",
    "    \n",
    "    for x in bsObject.findAll('td',{'class':'point'}):\n",
    "        point.append(int(x.text)) #숫자를 이용할 수도 있기 때문에 정수형으로 바꿔서 저장"
   ]
  },
  {
   "cell_type": "code",
   "execution_count": 7,
   "metadata": {},
   "outputs": [
    {
     "data": {
      "text/plain": [
       "['진짜 재밌어요 ㅋㅋㅋ 기대없이 봤는데 짜릿하고 진짜 집중하면서 봤어요 마지막에 먼가가 메이즈러너 느낌도나고 액션 이랑 스릴좋아하시는 사람들에겐 추천!!',\n",
       " '시간때우기 괜찮음보고 남는건 없음',\n",
       " '후속작 너무나 기대된당',\n",
       " '참신한 소재로 특색있게 잘 봤음',\n",
       " '(큐브+ 페르마의밀실+ 쏘우) 세가지를 고어적요소나 난해한걸 잘 못보는사람들이 보기쉽게 짬뽕한 느낌. 이런장르를 많이본사람에겐 조금 밋밋할수있고, 잘모르는사람에겐 잔인한 장면없이 가볍게 보기 좋은영화.']"
      ]
     },
     "execution_count": 7,
     "metadata": {},
     "output_type": "execute_result"
    }
   ],
   "source": [
    "text[:5]"
   ]
  },
  {
   "cell_type": "code",
   "execution_count": 8,
   "metadata": {},
   "outputs": [
    {
     "data": {
      "text/plain": [
       "[10, 6, 8, 8, 7]"
      ]
     },
     "execution_count": 8,
     "metadata": {},
     "output_type": "execute_result"
    }
   ],
   "source": [
    "point[:5]"
   ]
  },
  {
   "cell_type": "code",
   "execution_count": 18,
   "metadata": {},
   "outputs": [
    {
     "name": "stdout",
     "output_type": "stream",
     "text": [
      "페르마의 밀실, 큐브, 쏘우 등 스릴러좀 본사람이라면 절대보지마세요.. 2019년에 나올 영화퀄아닙니다 내용,등장인물 캐릭터 등등 OOO기임..뻔하고 졸라오그라듦. 마무리는 뭐 말도안나옴..\n",
      "요 근래 최악의 영화 2안봅니다\n",
      "돈아까움 진부함의 극치 첫번째 방까지만 볼만함\n",
      "유일하게 영화보면서 돈이 아니라 시간이 아깝다고 생각들게 한 영화\n",
      "아 이스케이프 룸이라는게 영화에서 탈출이아니고 영화관을 탈출하란 소리였나\n",
      "....조조봤는데 돈아까운생각...쏘우생각하고가면 훨 재미없고 큐브생각하면 좀...더 많이 부족한느낌의 애매한영화...뭐 이렇게 써줘도 보고싶은사람은보겠지...\n",
      "그저 그런영화 인듯 저는 별로 였습니다 ㅎ 재미도 감동도 없구 스릴조금 추가 한것뿐\n"
     ]
    }
   ],
   "source": [
    "#enumerate를 이용해 1점을 받은 평가만 출력해 보기\n",
    "\n",
    "for i,x in enumerate(text):\n",
    "    if point[i]==1:\n",
    "        print(x)"
   ]
  },
  {
   "cell_type": "code",
   "execution_count": 16,
   "metadata": {},
   "outputs": [],
   "source": [
    "#csv를 이용해 csv로 저장하기\n",
    "with open('crawling.csv', 'w',encoding='UTF-8') as f:\n",
    "    writer = csv.writer(f)\n",
    "    writer.writerow(['평가','평점'])\n",
    "        \n",
    "    for i,x in enumerate(text):\n",
    "        writer.writerow([text[i],point[i]])"
   ]
  },
  {
   "cell_type": "code",
   "execution_count": 19,
   "metadata": {},
   "outputs": [],
   "source": [
    "#판다스 라이브러리를 이용해 csv로 저장해 본다\n",
    "#크롤링 결과를 파이썬을 이용해 가공하거나 분석하고 싶을때 판다스 라이브러리가 유용한 것 같다\n",
    "\n",
    "df=pd.DataFrame({'평가':text,'평점':point})\n",
    "df.to_csv('crawling_pandas',index=True)"
   ]
  }
 ],
 "metadata": {
  "kernelspec": {
   "display_name": "Python 3",
   "language": "python",
   "name": "python3"
  },
  "language_info": {
   "codemirror_mode": {
    "name": "ipython",
    "version": 3
   },
   "file_extension": ".py",
   "mimetype": "text/x-python",
   "name": "python",
   "nbconvert_exporter": "python",
   "pygments_lexer": "ipython3",
   "version": "3.6.5"
  }
 },
 "nbformat": 4,
 "nbformat_minor": 2
}
