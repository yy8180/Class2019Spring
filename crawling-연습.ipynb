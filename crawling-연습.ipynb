{
 "cells": [
  {
   "cell_type": "markdown",
   "metadata": {},
   "source": [
    "크롤링을 연습하기 위해, 네이버 영화 사이트에서 영화의 평점과 평가를 가져오는 것을 연습해 본다."
   ]
  },
  {
   "cell_type": "code",
   "execution_count": 28,
   "metadata": {},
   "outputs": [],
   "source": [
    "#필요한 라이브러리 불러오기\n",
    "\n",
    "from urllib.request import urlopen\n",
    "from bs4 import BeautifulSoup\n",
    "import csv"
   ]
  },
  {
   "attachments": {},
   "cell_type": "markdown",
   "metadata": {},
   "source": [
    "「이스케이프 룸」이라는 영화를 검색해 리뷰로 들어가 보면\n",
    "\n",
    "https://movie.naver.com/movie/point/af/list.nhn?st=mcode&sword=180425&target=after&page=1\n",
    "위와 같은 주소인 것을 볼 수 있다. 여기서 마지막 부분이 page=1로 끝난다는 점을 이용해서\n",
    "뒤에 붙은 숫자만 바꾸어 주면 평점 목록의 페이지를 넘겨가며 크롤링을 할 수 있을 것 같다"
   ]
  },
  {
   "cell_type": "code",
   "execution_count": 37,
   "metadata": {},
   "outputs": [],
   "source": [
    "html = urlopen('https://movie.naver.com/movie/point/af/list.nhn?st=mcode&sword=180425&target=after&page=1')\n",
    "bsObject = BeautifulSoup(html, \"html.parser\")"
   ]
  },
  {
   "cell_type": "markdown",
   "metadata": {},
   "source": [
    "html을 봤을때, 각 평가 하나 하나는 <tr> 이라는 태그 안에 들어있음을 볼 수 있다. \n",
    "    평점은 그 속에 class=point라는 속성을 가진 <td> 태그 안에 있고\n",
    "    평가는 class=title 속성을 가진 <td>태그 속에 있는 것을 볼 수 있다."
   ]
  },
  {
   "cell_type": "code",
   "execution_count": 30,
   "metadata": {},
   "outputs": [
    {
     "name": "stdout",
     "output_type": "stream",
     "text": [
      "\n",
      "이스케이프 룸\n",
      "굿 시간때우기 미 ㅕㅅ쥬 \n",
      "\t\t\t\n",
      "\t\t\t\n",
      "\t\t\t\n",
      "\t\t\t\t\n",
      "\t\t\t\t\n",
      "\t\t\t\t\n",
      "\t\t\t\t신고\n",
      "\n",
      "\n",
      "이스케이프 룸\n",
      "재미있을 줄 알고 봤더니 그냥 그랬네요...두번은 안본다~~ \n",
      "\t\t\t\n",
      "\t\t\t\n",
      "\t\t\t\n",
      "\t\t\t\t\n",
      "\t\t\t\t\n",
      "\t\t\t\t\n",
      "\t\t\t\t신고\n",
      "\n",
      "\n",
      "이스케이프 룸\n",
      "연기력 1점, 다시 그 소굴로 기어 처들어가는데 웃으면서 감 + 남주도 쉽게 설득당함 \n",
      "\t\t\t\n",
      "\t\t\t\n",
      "\t\t\t\n",
      "\t\t\t\t\n",
      "\t\t\t\t\n",
      "\t\t\t\t\n",
      "\t\t\t\t신고\n",
      "\n",
      "\n",
      "이스케이프 룸\n",
      "DVD로 돌아다녀야 할 수준임.진짜 개연성도 없고 스토리도 빈약해서 아무나 2~3일 동안 야 방탈출에다가 살인 접목시켜서 어떻게 줄거리 짜지? 하면 누구나 짤 수 있는 수준임 거기에다가 돈떡칠. 영화 설명 끝 답없음 \n",
      "\t\t\t\n",
      "\t\t\t\n",
      "\t\t\t\n",
      "\t\t\t\t\n",
      "\t\t\t\t\n",
      "\t\t\t\t\n",
      "\t\t\t\t신고\n",
      "\n",
      "\n",
      "이스케이프 룸\n",
      "하나도 안무섭네요 재미는 보통 ㅋㅋ \n",
      "\t\t\t\n",
      "\t\t\t\n",
      "\t\t\t\n",
      "\t\t\t\t\n",
      "\t\t\t\t\n",
      "\t\t\t\t\n",
      "\t\t\t\t신고\n",
      "\n",
      "\n",
      "이스케이프 룸\n",
      "시간이 훅지나가는영화 재미납니다 \n",
      "\t\t\t\n",
      "\t\t\t\n",
      "\t\t\t\n",
      "\t\t\t\t\n",
      "\t\t\t\t\n",
      "\t\t\t\t\n",
      "\t\t\t\t신고\n",
      "\n",
      "\n",
      "이스케이프 룸\n",
      "쏘우 - 잔인함 = 이스케이프룸 \n",
      "\t\t\t\n",
      "\t\t\t\n",
      "\t\t\t\n",
      "\t\t\t\t\n",
      "\t\t\t\t\n",
      "\t\t\t\t\n",
      "\t\t\t\t신고\n",
      "\n",
      "\n",
      "이스케이프 룸\n",
      "와... 굉장히 명작이다...  이 정도는 아니구요...걍 볼만한 수준입니다... \n",
      "\t\t\t\n",
      "\t\t\t\n",
      "\t\t\t\n",
      "\t\t\t\t\n",
      "\t\t\t\t\n",
      "\t\t\t\t\n",
      "\t\t\t\t신고\n",
      "\n",
      "\n",
      "이스케이프 룸\n",
      "흠..잘모르겠네요ㅠㅠㅠ \n",
      "\t\t\t\n",
      "\t\t\t\n",
      "\t\t\t\n",
      "\t\t\t\t\n",
      "\t\t\t\t\n",
      "\t\t\t\t\n",
      "\t\t\t\t신고\n",
      "\n",
      "\n",
      "이스케이프 룸\n",
      "재밌게 봤습니다~~!! \n",
      "\t\t\t\n",
      "\t\t\t\n",
      "\t\t\t\n",
      "\t\t\t\t\n",
      "\t\t\t\t\n",
      "\t\t\t\t\n",
      "\t\t\t\t신고\n",
      "\n"
     ]
    }
   ],
   "source": [
    "for x in bsObject.findAll('td',{'class':'title'}):\n",
    "    print(x.text) #텍스트 부분만 출력"
   ]
  },
  {
   "cell_type": "markdown",
   "metadata": {},
   "source": [
    "위에 항상 붙어나오는 제목과 아래쪽 신고버튼을 정리해 주는 것이 더 깔끔할 것 같다.\n",
    "수업 시간에 배운 문자열 자르기와 치환을 이용하여 삭제할 수 있을 것 같다."
   ]
  },
  {
   "cell_type": "code",
   "execution_count": 31,
   "metadata": {},
   "outputs": [
    {
     "name": "stdout",
     "output_type": "stream",
     "text": [
      "굿 시간때우기 미 ㅕㅅ쥬\n",
      "재미있을 줄 알고 봤더니 그냥 그랬네요...두번은 안본다~~\n",
      "연기력 1점, 다시 그 소굴로 기어 처들어가는데 웃으면서 감 + 남주도 쉽게 설득당함\n",
      "DVD로 돌아다녀야 할 수준임.진짜 개연성도 없고 스토리도 빈약해서 아무나 2~3일 동안 야 방탈출에다가 살인 접목시켜서 어떻게 줄거리 짜지? 하면 누구나 짤 수 있는 수준임 거기에다가 돈떡칠. 영화 설명 끝 답없음\n",
      "하나도 안무섭네요 재미는 보통 ㅋㅋ\n",
      "시간이 훅지나가는영화 재미납니다\n",
      "쏘우 - 잔인함 = 이스케이프룸\n",
      "와... 굉장히 명작이다...  이 정도는 아니구요...걍 볼만한 수준입니다...\n",
      "흠..잘모르겠네요ㅠㅠㅠ\n",
      "재밌게 봤습니다~~!!\n"
     ]
    }
   ],
   "source": [
    "for x in bsObject.findAll('td',{'class':'title'}):\n",
    "    text=x.text[:-5] #문자열 자르기를 이용하여 신고 부분을 뺀 부분만 가져온다\n",
    "    text=text.replace('이스케이프 룸','',1) #평가 안에 영화 제목이 있을 수도 있기 때문에 하나만 바꿔준다.\n",
    "    print(text.strip())\n",
    "    "
   ]
  },
  {
   "cell_type": "code",
   "execution_count": 32,
   "metadata": {},
   "outputs": [
    {
     "name": "stdout",
     "output_type": "stream",
     "text": [
      "10\n",
      "6\n",
      "3\n",
      "2\n",
      "7\n",
      "10\n",
      "10\n",
      "10\n",
      "2\n",
      "8\n"
     ]
    }
   ],
   "source": [
    "for x in bsObject.findAll('td',{'class':'point'}):\n",
    "    print(x.text) #평점 출력"
   ]
  },
  {
   "cell_type": "markdown",
   "metadata": {},
   "source": [
    "10페이지에 걸쳐 평점과 평가를 리스트로 저장하는 코드를 짜 본다."
   ]
  },
  {
   "cell_type": "code",
   "execution_count": 33,
   "metadata": {},
   "outputs": [],
   "source": [
    "text=[]\n",
    "point=[]  #평가와 평점을 저장할 빈 리스트 생성\n",
    "\n",
    "link='https://movie.naver.com/movie/point/af/list.nhn?st=mcode&sword=180425&target=after&page=' #페이지 숫자만 바꿔가며 사용할 수 있다\n",
    "\n",
    "for i in range(11): #1~10페이지\n",
    "    html = urlopen('https://movie.naver.com/movie/point/af/list.nhn?st=mcode&sword=180425&target=after&page='+str(i))\n",
    "    bsObject = BeautifulSoup(html, \"html.parser\")\n",
    "    \n",
    "    for x in bsObject.findAll('td',{'class':'title'}):\n",
    "        a=x.text[:-5]\n",
    "        a=a.replace('이스케이프 룸','',1)\n",
    "        text.append(a.strip())  #append를 이용해 리스트에 원소를 추가할 수 있다.\n",
    "    \n",
    "    for x in bsObject.findAll('td',{'class':'point'}):\n",
    "        point.append(int(x.text)) #숫자를 이용할 수도 있기 때문에 정수형으로 바꿔서 저장"
   ]
  },
  {
   "cell_type": "code",
   "execution_count": 38,
   "metadata": {},
   "outputs": [
    {
     "data": {
      "text/plain": [
       "['굿 시간때우기 미 ㅕㅅ쥬',\n",
       " '재미있을 줄 알고 봤더니 그냥 그랬네요...두번은 안본다~~',\n",
       " '연기력 1점, 다시 그 소굴로 기어 처들어가는데 웃으면서 감 + 남주도 쉽게 설득당함',\n",
       " 'DVD로 돌아다녀야 할 수준임.진짜 개연성도 없고 스토리도 빈약해서 아무나 2~3일 동안 야 방탈출에다가 살인 접목시켜서 어떻게 줄거리 짜지? 하면 누구나 짤 수 있는 수준임 거기에다가 돈떡칠. 영화 설명 끝 답없음',\n",
       " '하나도 안무섭네요 재미는 보통 ㅋㅋ']"
      ]
     },
     "execution_count": 38,
     "metadata": {},
     "output_type": "execute_result"
    }
   ],
   "source": [
    "text[:5]"
   ]
  },
  {
   "cell_type": "code",
   "execution_count": 39,
   "metadata": {},
   "outputs": [
    {
     "data": {
      "text/plain": [
       "[10, 6, 3, 2, 7]"
      ]
     },
     "execution_count": 39,
     "metadata": {},
     "output_type": "execute_result"
    }
   ],
   "source": [
    "point[:5]"
   ]
  },
  {
   "cell_type": "code",
   "execution_count": 36,
   "metadata": {},
   "outputs": [
    {
     "name": "stdout",
     "output_type": "stream",
     "text": [
      "생각보다 별로...   영화 첫장면보고 조잡함을 직감했는데... 역시나  ㅠ\n",
      "재미없음 너무뻔하고 스릴넘치지도않아요\n",
      "시사회로 봤는데 노잼...\n",
      "스토리도 없고 개연성도 없고 재미도 없고 의미도 없음.\n",
      "새벽에 이런영화를 보러간 내가밉다\n",
      "돈낭비 시간낭비하기에 가성비는 최고인듯\n",
      "영화관에서 탈출못해서 잠듬-_-;;\n",
      "진심 재미없고 난잡하기만 하지 긴장감도 없고 단서고머고 지들끼리 떠들다 알아서 단서 기어나옴\n",
      "ㄹㅇ 정신없음 진심  시간 많으면 보세요\n",
      "좆노잼이었음 돈아까움\n",
      "보고왔는데.. 노잼ㅡㅡ\n"
     ]
    }
   ],
   "source": [
    "#enumerate를 이용해 1점을 받은 평가만 출력하기\n",
    "\n",
    "for i,x in enumerate(text):\n",
    "    if point[i]==1:\n",
    "        print(x)"
   ]
  }
 ],
 "metadata": {
  "kernelspec": {
   "display_name": "Python 3",
   "language": "python",
   "name": "python3"
  },
  "language_info": {
   "codemirror_mode": {
    "name": "ipython",
    "version": 3
   },
   "file_extension": ".py",
   "mimetype": "text/x-python",
   "name": "python",
   "nbconvert_exporter": "python",
   "pygments_lexer": "ipython3",
   "version": "3.6.5"
  }
 },
 "nbformat": 4,
 "nbformat_minor": 2
}
