{
 "cells": [
  {
   "cell_type": "markdown",
   "metadata": {},
   "source": [
    "[:]을 사용하면 인덱스를 기준으로 슬라이싱을 할수 있다.\n",
    "\n",
    "ex)\n",
    "[:]문자열 전체\n",
    "[1:4] 인덱스 1~3까지"
   ]
  },
  {
   "cell_type": "code",
   "execution_count": 1,
   "metadata": {},
   "outputs": [
    {
     "name": "stdout",
     "output_type": "stream",
     "text": [
      "a f f a\n",
      "bc bcdef abc abcdef\n"
     ]
    }
   ],
   "source": [
    "s = 'abcdef'\n",
    "print(s[0], s[5], s[-1], s[-6])\n",
    "print(s[1:3], s[1:], s[:3], s[:])"
   ]
  },
  {
   "cell_type": "code",
   "execution_count": 2,
   "metadata": {},
   "outputs": [
    {
     "name": "stdout",
     "output_type": "stream",
     "text": [
      "100 300 300 100\n",
      "[200] [200, 300] [100, 200] [100, 200, 300]\n"
     ]
    }
   ],
   "source": [
    "n = [100, 200, 300]\n",
    "print(n[0], n[2], n[-1], n[-3])\n",
    "print(n[1:2], n[1:], n[:2], n[:])"
   ]
  },
  {
   "cell_type": "markdown",
   "metadata": {},
   "source": [
    "len을 이용하여 문자열,리스트 등의 길이를 알 수 있다."
   ]
  },
  {
   "cell_type": "code",
   "execution_count": 3,
   "metadata": {},
   "outputs": [
    {
     "data": {
      "text/plain": [
       "6"
      ]
     },
     "execution_count": 3,
     "metadata": {},
     "output_type": "execute_result"
    }
   ],
   "source": [
    "len(s)"
   ]
  },
  {
   "cell_type": "code",
   "execution_count": 4,
   "metadata": {},
   "outputs": [
    {
     "data": {
      "text/plain": [
       "'bdefefefefefefefefefef'"
      ]
     },
     "execution_count": 4,
     "metadata": {},
     "output_type": "execute_result"
    }
   ],
   "source": [
    "s[1]+s[3]+s[4:]*10"
   ]
  },
  {
   "cell_type": "markdown",
   "metadata": {},
   "source": [
    "문자열.upper() : 문자열을 대문자로 치환한 결과 반환(소문자로 바꾸고 싶을땐 lower() )"
   ]
  },
  {
   "cell_type": "code",
   "execution_count": 5,
   "metadata": {},
   "outputs": [
    {
     "data": {
      "text/plain": [
       "'ABCDEF'"
      ]
     },
     "execution_count": 5,
     "metadata": {},
     "output_type": "execute_result"
    }
   ],
   "source": [
    "s.upper() #s가 바뀌는 것이 아니라 단순히 결과를 반환할 뿐이기 때문에 결과를 바꾸고 싶다면 s=s.upper()를 해 주어야 한다"
   ]
  },
  {
   "cell_type": "code",
   "execution_count": 6,
   "metadata": {},
   "outputs": [
    {
     "data": {
      "text/plain": [
       "' this is a house built this year.\\n'"
      ]
     },
     "execution_count": 6,
     "metadata": {},
     "output_type": "execute_result"
    }
   ],
   "source": [
    "s = ' this is a house built this year.\\n' \t\n",
    "s"
   ]
  },
  {
   "cell_type": "code",
   "execution_count": 7,
   "metadata": {},
   "outputs": [
    {
     "data": {
      "text/plain": [
       "34"
      ]
     },
     "execution_count": 7,
     "metadata": {},
     "output_type": "execute_result"
    }
   ],
   "source": [
    "len(s)"
   ]
  },
  {
   "cell_type": "markdown",
   "metadata": {},
   "source": [
    "문자열.find() : 문자열에서 특정 대상을 찾아 인덱스값을 반환(왼쪽부터 제일 처음나오는 대상)\n",
    "문자열.rindex() : find와 비슷하지만 오른쪽부터 검색한다. 찾지 못할 경우 find와는 다르게 에러가 뜨니 주의\n",
    "문자열.strip() : 문자열의 양 끝에서 공백문자 제거, 특정 값을 괄호에 입력시 그 값을 제거"
   ]
  },
  {
   "cell_type": "code",
   "execution_count": 8,
   "metadata": {},
   "outputs": [
    {
     "data": {
      "text/plain": [
       "11"
      ]
     },
     "execution_count": 8,
     "metadata": {},
     "output_type": "execute_result"
    }
   ],
   "source": [
    "result = s.find('house') \t    # index of first instance of string t inside s (-1 if not found)\n",
    "result"
   ]
  },
  {
   "cell_type": "code",
   "execution_count": 9,
   "metadata": {},
   "outputs": [
    {
     "data": {
      "text/plain": [
       "1"
      ]
     },
     "execution_count": 9,
     "metadata": {},
     "output_type": "execute_result"
    }
   ],
   "source": [
    "result = s.find('this')\t    # index of last instance of string t inside s (-1 if not found)\n",
    "result"
   ]
  },
  {
   "cell_type": "code",
   "execution_count": 10,
   "metadata": {},
   "outputs": [
    {
     "data": {
      "text/plain": [
       "23"
      ]
     },
     "execution_count": 10,
     "metadata": {},
     "output_type": "execute_result"
    }
   ],
   "source": [
    "result = s.rindex('this')        # like s.find(t) except it raises ValueError if not found\n",
    "result"
   ]
  },
  {
   "cell_type": "code",
   "execution_count": 11,
   "metadata": {},
   "outputs": [
    {
     "data": {
      "text/plain": [
       "'this is a house built this year.'"
      ]
     },
     "execution_count": 11,
     "metadata": {},
     "output_type": "execute_result"
    }
   ],
   "source": [
    "s = s.strip()      \t            # a copy of s without leading or trailing whitespace\n",
    "s"
   ]
  },
  {
   "cell_type": "markdown",
   "metadata": {},
   "source": [
    "split()을 이용해 문자열을 잘라 리스트로 만들 수 있다.(기본값은 공백,자르는 기준 선택가능)\n",
    "\n",
    "문장을 단어 단위로 자르고 싶을때 쉽게 사용가능하다.\n",
    "\n",
    "split으로 얻은 리스트를 다시 문자열로 돌리거나 문자열로 이루어진 리스트를 하나의 문장으로 합치고 싶을 때에는 join을 이용할 수 있다"
   ]
  },
  {
   "cell_type": "code",
   "execution_count": 12,
   "metadata": {},
   "outputs": [
    {
     "data": {
      "text/plain": [
       "['this', 'is', 'a', 'house', 'built', 'this', 'year.']"
      ]
     },
     "execution_count": 12,
     "metadata": {},
     "output_type": "execute_result"
    }
   ],
   "source": [
    "tokens = s.split(' ')\t        # split s into a list wherever a t is found (whitespace by default)\n",
    "tokens"
   ]
  },
  {
   "cell_type": "code",
   "execution_count": 13,
   "metadata": {},
   "outputs": [
    {
     "data": {
      "text/plain": [
       "'this is a house built this year.'"
      ]
     },
     "execution_count": 13,
     "metadata": {},
     "output_type": "execute_result"
    }
   ],
   "source": [
    "s = ' '.join(tokens)\t        # combine the words of the text into a string using s as the glue\n",
    "s"
   ]
  },
  {
   "cell_type": "markdown",
   "metadata": {},
   "source": [
    "특정 문자열을 다른 문자열로 치환할 때에는 replace를 쓸 수 있다. 찾은 문자열은 모두 바꿔 준다"
   ]
  },
  {
   "cell_type": "code",
   "execution_count": 14,
   "metadata": {},
   "outputs": [
    {
     "data": {
      "text/plain": [
       "'that is a house built that year.'"
      ]
     },
     "execution_count": 14,
     "metadata": {},
     "output_type": "execute_result"
    }
   ],
   "source": [
    "s = s.replace('this', 'that')   # replace instances of t with u inside s\n",
    "s"
   ]
  },
  {
   "cell_type": "code",
   "execution_count": 16,
   "metadata": {},
   "outputs": [
    {
     "data": {
      "text/plain": [
       "'나는 그저께 학교에 갔다. 너는 그저께 학교에 갔니? 나는 어제 학교에 가지 않았다.'"
      ]
     },
     "execution_count": 16,
     "metadata": {},
     "output_type": "execute_result"
    }
   ],
   "source": [
    "text='나는 어제 학교에 갔다. 너는 어제 학교에 갔니? 나는 어제 학교에 가지 않았다.'\n",
    "\n",
    "text.replace('어제','그저께',2) #찾아 바꿀 개수를 정해 줄수 있다."
   ]
  },
  {
   "cell_type": "code",
   "execution_count": null,
   "metadata": {},
   "outputs": [],
   "source": []
  }
 ],
 "metadata": {
  "kernelspec": {
   "display_name": "Python 3",
   "language": "python",
   "name": "python3"
  },
  "language_info": {
   "codemirror_mode": {
    "name": "ipython",
    "version": 3
   },
   "file_extension": ".py",
   "mimetype": "text/x-python",
   "name": "python",
   "nbconvert_exporter": "python",
   "pygments_lexer": "ipython3",
   "version": "3.6.5"
  }
 },
 "nbformat": 4,
 "nbformat_minor": 1
}
